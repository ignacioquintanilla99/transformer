{
 "cells": [
  {
   "cell_type": "code",
   "execution_count": 3,
   "id": "5097562c",
   "metadata": {},
   "outputs": [],
   "source": [
    "from src import Bilingualdataset, get_dataset, get_config"
   ]
  },
  {
   "cell_type": "code",
   "execution_count": 6,
   "id": "2d268a8d",
   "metadata": {},
   "outputs": [
    {
     "name": "stdout",
     "output_type": "stream",
     "text": [
      "Max length of source sentence: 767\n",
      "Max length of target sentence: 782\n"
     ]
    }
   ],
   "source": [
    "config = get_config()\n",
    "config\n",
    "\n",
    "train_dataloader, val_dataloader, tokenizer_src, tokenizer_tgt = get_dataset(config)"
   ]
  }
 ],
 "metadata": {
  "kernelspec": {
   "display_name": ".venv",
   "language": "python",
   "name": "python3"
  },
  "language_info": {
   "codemirror_mode": {
    "name": "ipython",
    "version": 3
   },
   "file_extension": ".py",
   "mimetype": "text/x-python",
   "name": "python",
   "nbconvert_exporter": "python",
   "pygments_lexer": "ipython3",
   "version": "3.12.3"
  }
 },
 "nbformat": 4,
 "nbformat_minor": 5
}
